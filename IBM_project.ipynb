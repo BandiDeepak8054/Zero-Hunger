{
 "cells": [
  {
   "cell_type": "code",
   "execution_count": 1,
   "id": "be544669-cd3c-4a68-bf87-8e1e04f36975",
   "metadata": {},
   "outputs": [],
   "source": [
    "import pandas as pd\n",
    "import numpy as np \n",
    "import matplotlib.pyplot as plt\n",
    "from sklearn.linear_model import LinearRegression"
   ]
  },
  {
   "cell_type": "code",
   "execution_count": 2,
   "id": "8b691446-4c99-487a-8dd6-66374a39a9f7",
   "metadata": {},
   "outputs": [],
   "source": [
    "data=pd.read_csv(\"Project1.csv\")"
   ]
  },
  {
   "cell_type": "code",
   "execution_count": 3,
   "id": "dc2ca1c6-97c1-4d5e-bc6f-91f48f030258",
   "metadata": {},
   "outputs": [
    {
     "name": "stdout",
     "output_type": "stream",
     "text": [
      "<class 'pandas.core.frame.DataFrame'>\n",
      "RangeIndex: 944 entries, 0 to 943\n",
      "Data columns (total 4 columns):\n",
      " #   Column                                                                            Non-Null Count  Dtype  \n",
      "---  ------                                                                            --------------  -----  \n",
      " 0   Entity                                                                            944 non-null    object \n",
      " 1   Code                                                                              748 non-null    object \n",
      " 2   Year                                                                              944 non-null    int64  \n",
      " 3   Prevalence of moderate or severe food insecurity in the total population (%age)   944 non-null    float64\n",
      "dtypes: float64(1), int64(1), object(2)\n",
      "memory usage: 29.6+ KB\n"
     ]
    }
   ],
   "source": [
    "data.info()"
   ]
  },
  {
   "cell_type": "code",
   "execution_count": 4,
   "id": "e79f6053-46f9-4c71-ae08-820e3a280f80",
   "metadata": {},
   "outputs": [
    {
     "data": {
      "text/html": [
       "<div>\n",
       "<style scoped>\n",
       "    .dataframe tbody tr th:only-of-type {\n",
       "        vertical-align: middle;\n",
       "    }\n",
       "\n",
       "    .dataframe tbody tr th {\n",
       "        vertical-align: top;\n",
       "    }\n",
       "\n",
       "    .dataframe thead th {\n",
       "        text-align: right;\n",
       "    }\n",
       "</style>\n",
       "<table border=\"1\" class=\"dataframe\">\n",
       "  <thead>\n",
       "    <tr style=\"text-align: right;\">\n",
       "      <th></th>\n",
       "      <th>Entity</th>\n",
       "      <th>Code</th>\n",
       "      <th>Year</th>\n",
       "      <th>Prevalence of moderate or severe food insecurity in the total population (%age)</th>\n",
       "    </tr>\n",
       "  </thead>\n",
       "  <tbody>\n",
       "    <tr>\n",
       "      <th>0</th>\n",
       "      <td>Afghanistan</td>\n",
       "      <td>AFG</td>\n",
       "      <td>2015</td>\n",
       "      <td>45.1</td>\n",
       "    </tr>\n",
       "    <tr>\n",
       "      <th>1</th>\n",
       "      <td>Afghanistan</td>\n",
       "      <td>AFG</td>\n",
       "      <td>2016</td>\n",
       "      <td>49.6</td>\n",
       "    </tr>\n",
       "    <tr>\n",
       "      <th>2</th>\n",
       "      <td>Afghanistan</td>\n",
       "      <td>AFG</td>\n",
       "      <td>2017</td>\n",
       "      <td>54.3</td>\n",
       "    </tr>\n",
       "    <tr>\n",
       "      <th>3</th>\n",
       "      <td>Afghanistan</td>\n",
       "      <td>AFG</td>\n",
       "      <td>2018</td>\n",
       "      <td>57.5</td>\n",
       "    </tr>\n",
       "    <tr>\n",
       "      <th>4</th>\n",
       "      <td>Afghanistan</td>\n",
       "      <td>AFG</td>\n",
       "      <td>2019</td>\n",
       "      <td>63.1</td>\n",
       "    </tr>\n",
       "    <tr>\n",
       "      <th>...</th>\n",
       "      <td>...</td>\n",
       "      <td>...</td>\n",
       "      <td>...</td>\n",
       "      <td>...</td>\n",
       "    </tr>\n",
       "    <tr>\n",
       "      <th>939</th>\n",
       "      <td>Zimbabwe</td>\n",
       "      <td>ZWE</td>\n",
       "      <td>2016</td>\n",
       "      <td>66.7</td>\n",
       "    </tr>\n",
       "    <tr>\n",
       "      <th>940</th>\n",
       "      <td>Zimbabwe</td>\n",
       "      <td>ZWE</td>\n",
       "      <td>2017</td>\n",
       "      <td>67.0</td>\n",
       "    </tr>\n",
       "    <tr>\n",
       "      <th>941</th>\n",
       "      <td>Zimbabwe</td>\n",
       "      <td>ZWE</td>\n",
       "      <td>2018</td>\n",
       "      <td>66.7</td>\n",
       "    </tr>\n",
       "    <tr>\n",
       "      <th>942</th>\n",
       "      <td>Zimbabwe</td>\n",
       "      <td>ZWE</td>\n",
       "      <td>2019</td>\n",
       "      <td>69.8</td>\n",
       "    </tr>\n",
       "    <tr>\n",
       "      <th>943</th>\n",
       "      <td>Zimbabwe</td>\n",
       "      <td>ZWE</td>\n",
       "      <td>2020</td>\n",
       "      <td>73.0</td>\n",
       "    </tr>\n",
       "  </tbody>\n",
       "</table>\n",
       "<p>944 rows × 4 columns</p>\n",
       "</div>"
      ],
      "text/plain": [
       "          Entity Code  Year  \\\n",
       "0    Afghanistan  AFG  2015   \n",
       "1    Afghanistan  AFG  2016   \n",
       "2    Afghanistan  AFG  2017   \n",
       "3    Afghanistan  AFG  2018   \n",
       "4    Afghanistan  AFG  2019   \n",
       "..           ...  ...   ...   \n",
       "939     Zimbabwe  ZWE  2016   \n",
       "940     Zimbabwe  ZWE  2017   \n",
       "941     Zimbabwe  ZWE  2018   \n",
       "942     Zimbabwe  ZWE  2019   \n",
       "943     Zimbabwe  ZWE  2020   \n",
       "\n",
       "     Prevalence of moderate or severe food insecurity in the total population (%age)   \n",
       "0                                                 45.1                                 \n",
       "1                                                 49.6                                 \n",
       "2                                                 54.3                                 \n",
       "3                                                 57.5                                 \n",
       "4                                                 63.1                                 \n",
       "..                                                 ...                                 \n",
       "939                                               66.7                                 \n",
       "940                                               67.0                                 \n",
       "941                                               66.7                                 \n",
       "942                                               69.8                                 \n",
       "943                                               73.0                                 \n",
       "\n",
       "[944 rows x 4 columns]"
      ]
     },
     "execution_count": 4,
     "metadata": {},
     "output_type": "execute_result"
    }
   ],
   "source": [
    "data"
   ]
  },
  {
   "cell_type": "code",
   "execution_count": 11,
   "id": "4980412c-9aa8-47bb-a6d8-270154ea7217",
   "metadata": {},
   "outputs": [
    {
     "name": "stdout",
     "output_type": "stream",
     "text": [
      "Index(['Entity', 'Code', 'Year',\n",
      "       'Prevalence of moderate or severe food insecurity in the total population (%age)'],\n",
      "      dtype='object')\n"
     ]
    },
    {
     "name": "stdin",
     "output_type": "stream",
     "text": [
      "Enter the country name:  Zimbabwe\n"
     ]
    },
    {
     "name": "stdout",
     "output_type": "stream",
     "text": [
      "\n",
      "Predicted scores for Zimbabwe for the years [2021, 2022, 2023, 2024, 2025]:\n",
      "Year 2021: 80.80%\n",
      "Year 2022: 93.09%\n",
      "Year 2023: 111.23%\n",
      "Year 2024: 136.40%\n",
      "Year 2025: 169.76%\n",
      "\n",
      "Model Accuracy (R² Score): 0.9746\n"
     ]
    },
    {
     "data": {
      "image/png": "[encoded data removed]",
      "text/plain": [
       "<Figure size 800x500 with 1 Axes>"
      ]
     },
     "metadata": {},
     "output_type": "display_data"
    }
   ],
   "source": [
    "import numpy as np\n",
    "import pandas as pd\n",
    "import matplotlib.pyplot as plt\n",
    "from sklearn.preprocessing import PolynomialFeatures\n",
    "from sklearn.linear_model import LinearRegression\n",
    "from sklearn.metrics import r2_score\n",
    "\n",
    "df = pd.DataFrame(data)\n",
    "df.columns = df.columns.str.strip()\n",
    "print(df.columns)\n",
    "\n",
    "def predict_score_for_country(df, future_years, degree=2):\n",
    "    country_name = input(\"Enter the country name: \")\n",
    "    country_data = df[df['Entity'] == country_name]\n",
    "\n",
    "    if country_data.shape[0] < 3: \n",
    "        print(\"Not enough data to make accurate predictions.\")\n",
    "        return None, None, None, None\n",
    "\n",
    "    X = country_data[['Year']].values\n",
    "    y = country_data['Prevalence of moderate or severe food insecurity in the total population (%age)'].astype(float).values\n",
    "\n",
    "    poly = PolynomialFeatures(degree=degree)  \n",
    "    X_poly = poly.fit_transform(X)\n",
    "\n",
    "    model = LinearRegression()\n",
    "    model.fit(X_poly, y)\n",
    "\n",
    "    y_pred = model.predict(X_poly)\n",
    "    r2 = r2_score(y, y_pred)  \n",
    "\n",
    "    future_X = np.array(future_years).reshape(-1, 1)\n",
    "    future_X_poly = poly.transform(future_X)\n",
    "    future_predictions = model.predict(future_X_poly)\n",
    "\n",
    "    print(f\"\\nPredicted scores for {country_name} for the years {future_years}:\")\n",
    "    for year, prediction in zip(future_years, future_predictions):\n",
    "        print(f\"Year {year}: {prediction:.2f}%\")\n",
    "    \n",
    "    print(f\"\\nModel Accuracy (R² Score): {r2:.4f}\")\n",
    "\n",
    "    return country_data, future_years, future_predictions, r2\n",
    "\n",
    "def plot_predictions(country_data, future_years, future_predictions, r2):\n",
    "    if country_data is None:\n",
    "        print(\"No data to plot.\")\n",
    "        return\n",
    "\n",
    "    plt.figure(figsize=(8, 5))\n",
    "    plt.scatter(country_data['Year'], country_data['Prevalence of moderate or severe food insecurity in the total population (%age)'], \n",
    "                label='Historical Data', color='blue', marker='o')\n",
    "    \n",
    "    plt.plot(future_years, future_predictions, label='Predicted Data', marker='x', linestyle='--', color='red')\n",
    "\n",
    "    plt.xlabel('Year')\n",
    "    plt.ylabel('Prevalence of Food Insecurity (%age)')\n",
    "    plt.title(f'Prediction of Food Insecurity for {country_data[\"Entity\"].iloc[0]}\\nAccuracy (R² Score): {r2:.4f}')\n",
    "    plt.legend()\n",
    "    plt.grid(True)\n",
    "    plt.savefig(\"food_insecurity_prediction.png\")\n",
    "    plt.show()\n",
    "\n",
    "future_years = [2021, 2022, 2023, 2024, 2025]\n",
    "country_data, future_years, future_predictions, r2 = predict_score_for_country(df, future_years, degree=3) \n",
    "plot_predictions(country_data, future_years, future_predictions, r2)\n"
   ]
  },
  {
   "cell_type": "code",
   "execution_count": null,
   "id": "4c925846-a770-44e5-9a1b-9ce7a326a042",
   "metadata": {},
   "outputs": [],
   "source": []
  }
 ],
 "metadata": {
  "kernelspec": {
   "display_name": "Python 3 (ipykernel)",
   "language": "python",
   "name": "python3"
  },
  "language_info": {
   "codemirror_mode": {
    "name": "ipython",
    "version": 3
   },
   "file_extension": ".py",
   "mimetype": "text/x-python",
   "name": "python",
   "nbconvert_exporter": "python",
   "pygments_lexer": "ipython3",
   "version": "3.12.4"
  }
 },
 "nbformat": 4,
 "nbformat_minor": 5
}
